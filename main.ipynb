{
 "cells": [
  {
   "cell_type": "markdown",
   "metadata": {},
   "source": [
    "# Import all dependecies"
   ]
  },
  {
   "cell_type": "code",
   "execution_count": 3,
   "metadata": {},
   "outputs": [],
   "source": [
    "import PyPDF2 \n",
    "import textract\n",
    "from nltk.tokenize import word_tokenize\n",
    "from nltk.corpus import stopwords\n"
   ]
  },
  {
   "cell_type": "markdown",
   "metadata": {},
   "source": [
    "# Read PDF File \n",
    "- Here you could write a for loop for all pdf files you would like to put in"
   ]
  },
  {
   "cell_type": "code",
   "execution_count": 11,
   "metadata": {},
   "outputs": [],
   "source": [
    "#  Write a for-loop to open many files (leave a comment if you'd like to learn how).\n",
    "filename = 'root_antrag.pdf' \n",
    "#open allows you to read the file.\n",
    "pdfFileObj = open(filename,'rb')\n",
    "# The pdfReader variable is a readable object that will be parsed.\n",
    "pdfReader = PyPDF2.PdfReader(pdfFileObj)\n",
    "# Discerning the number of pages will allow us to parse through all the pages.\n",
    "num_pages = len(pdfReader.pages)\n",
    "count = 0\n",
    "text = \"\"\n",
    "# The while loop will read each page.\n",
    "while count < num_pages:\n",
    "    pageObj = pdfReader.pages[count]\n",
    "    count +=1\n",
    "    text += pageObj.extract_text()\n",
    "\n",
    "\n",
    "# This if statement exists to check if the above library returned words. It's done because PyPDF2 cannot read scanned files.\n",
    "if text != \"\":\n",
    "   text = text\n",
    "    #If the above returns as False, we run the OCR library textract to \n",
    "    #convert scanned/image based PDF files into text.\n",
    "else:\n",
    "   text = textract.process(fileurl, method='tesseract', language='eng')\n",
    "# Now we have a text variable that contains all the text derived from our PDF file. Type print(text) to see what it contains. \n",
    "# It likely contains a lot of spaces, possibly junk such as '\\n,' etc.\n",
    "# Now, we will clean our text variable and return it as a list of keywords."
   ]
  },
  {
   "cell_type": "markdown",
   "metadata": {},
   "source": [
    "# Search for words in the pdf\n",
    "- R-Packages which are used much"
   ]
  }
 ],
 "metadata": {
  "kernelspec": {
   "display_name": ".venv",
   "language": "python",
   "name": "python3"
  },
  "language_info": {
   "codemirror_mode": {
    "name": "ipython",
    "version": 3
   },
   "file_extension": ".py",
   "mimetype": "text/x-python",
   "name": "python",
   "nbconvert_exporter": "python",
   "pygments_lexer": "ipython3",
   "version": "3.9.6"
  },
  "orig_nbformat": 4
 },
 "nbformat": 4,
 "nbformat_minor": 2
}
