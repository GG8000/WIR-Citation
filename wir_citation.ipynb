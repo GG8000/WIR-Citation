{
 "cells": [
  {
   "cell_type": "markdown",
   "metadata": {},
   "source": [
    "# Install dependencies"
   ]
  },
  {
   "cell_type": "code",
   "execution_count": 85,
   "metadata": {},
   "outputs": [
    {
     "ename": "SyntaxError",
     "evalue": "invalid syntax (387923369.py, line 1)",
     "output_type": "error",
     "traceback": [
      "\u001b[0;36m  Cell \u001b[0;32mIn[85], line 1\u001b[0;36m\u001b[0m\n\u001b[0;31m    pip install --pre bibtexparser\u001b[0m\n\u001b[0m        ^\u001b[0m\n\u001b[0;31mSyntaxError\u001b[0m\u001b[0;31m:\u001b[0m invalid syntax\n"
     ]
    }
   ],
   "source": [
    "pip install --pre bibtexparser\n",
    "pip install rich\n",
    "pip install \"rich[jupyter]\""
   ]
  },
  {
   "cell_type": "markdown",
   "metadata": {},
   "source": []
  },
  {
   "cell_type": "markdown",
   "metadata": {},
   "source": [
    "# Import bibtexparser and BibTexString"
   ]
  },
  {
   "cell_type": "code",
   "execution_count": 1,
   "metadata": {},
   "outputs": [],
   "source": [
    "import bibtexparser\n",
    "bibtex_str = \"\"\"\n",
    "@article{Tinya_2023,\n",
    "  added-at = {2023-09-08T09:38:26.000+0200},\n",
    "  author = {Tinya, Flóra and Doerfler, Inken and de Groot, Maarten and Heilman-Clausen, Jacob and Kovács, Bence and Marell, Anders and Nordén, Björn and Aszalós, Réka and Bässler, Claus and Brazaitis, Gediminas and Burrascano, Sabina and Camprodon, Jordi and Chudomelová, Mark{\\'{e}}ta and Čížek, Lukáš and D'Andrea, Ettore and Gossner, Martin and Halme, Panu and Hédl, Radim and Korboulewsky, Nathalie and Kouki, Jari and Kozel, Petr and Lõhmus, Asko and López, Rosana and Máliš, Franti{\\v{s}}ek and Martín, Juan A. and Matteucci, Giorgio and Mattioli, Walter and Mundet, Roser and Müller, Jörg and Nicolas, Manuel and Oldén, Anna and Piqué, M{\\'{\\i}}riam and Preikša, Žydrūnas and Ciuró, Joan Rovira and Remm, Liina and Schall, Peter and Šebek, Pavel and Seibold, Sebastian and Simončič, Primo{\\v{z}} and Ujházy, Karol and Ujházyová, Mariana and Vild, Ondřej and Vincenot, Lucie and Weisser, Wolfgang and Ódor, Péter},\n",
    "  biburl = {https://www.bibsonomy.org/bibtex/23d97726a36eca99f7c1e46df7dde7bd3/fsfabrik},\n",
    "  doi = {10.1016/j.gecco.2023.e02553},\n",
    "  interhash = {5225c0b4396b735257e9cdad72cf380d},\n",
    "  intrahash = {3d97726a36eca99f7c1e46df7dde7bd3},\n",
    "  journal = {Global Ecology and Conservation},\n",
    "  keywords = {fsfabrik joergmueller myown},\n",
    "  month = oct,\n",
    "  pages = {e02553},\n",
    "  publisher = {Elsevier {BV}},\n",
    "  timestamp = {2023-09-08T09:38:26.000+0200},\n",
    "  title = {A synthesis of multi-taxa management experiments to guide forest biodiversity conservation in Europe},\n",
    "  url = {https://doi.org/10.1016%2Fj.gecco.2023.e02553},\n",
    "  volume = 46,\n",
    "  year = 2023\n",
    "}\n",
    "\"\"\"\n",
    "library = bibtexparser.parse_string(bibtex_str)\n",
    "#library = bibtexparser.parse_file(\"BibTexFile.bib\")"
   ]
  },
  {
   "cell_type": "markdown",
   "metadata": {},
   "source": [
    "The returned library object provides access to the parsed blocks, i.e., parsed high-level segments of the bibtex such as entries, comments, strings and preambles. You can access them by type, or iterate over all blocks, as shown below:"
   ]
  },
  {
   "cell_type": "code",
   "execution_count": 2,
   "metadata": {},
   "outputs": [
    {
     "name": "stdout",
     "output_type": "stream",
     "text": [
      "Parsed 1 blocks, including:\n",
      "\t1 entries\n",
      "\t0 comments and\n",
      "\t0 strings and\n",
      "\t0 preambles\n"
     ]
    }
   ],
   "source": [
    "print(f\"Parsed {len(library.blocks)} blocks, including:\"\n",
    "  f\"\\n\\t{len(library.entries)} entries\"\n",
    "    f\"\\n\\t{len(library.comments)} comments and\"\n",
    "    f\"\\n\\t{len(library.strings)} strings and\"\n",
    "    f\"\\n\\t{len(library.preambles)} preambles\")"
   ]
  },
  {
   "cell_type": "markdown",
   "metadata": {},
   "source": [
    "# Get the important entries (Authors, year, title, journal, volume, pages)\n",
    "## Define function for author formatting"
   ]
  },
  {
   "cell_type": "code",
   "execution_count": 3,
   "metadata": {},
   "outputs": [],
   "source": [
    "def format_author(author_str):\n",
    "    author_formatted_str = \"\"\n",
    "    authors_arr = author_str.split(' and ')\n",
    "    count = 0\n",
    "    for author in authors_arr:\n",
    "        author_lastname = author.split(\", \")[0]\n",
    "        author_forname = author.split(\", \")[1]\n",
    "        if len(author_lastname) == 1:\n",
    "            helper = author_lastname;\n",
    "            author_lastname = author_forname;\n",
    "            author_forname = helper\n",
    "        author_forname_initial = author_forname[0]\n",
    "        if count == 0:\n",
    "            author_formatted_str = author_lastname + \" \" + author_forname_initial\n",
    "            count = count + 1\n",
    "        else: \n",
    "            author_formatted_str = author_formatted_str + \", \" + author_lastname + \" \" + author_forname_initial\n",
    "        \n",
    "    return author_formatted_str\n",
    "    # formatted_author = \"\"\n",
    "    # return formatted_author"
   ]
  },
  {
   "cell_type": "markdown",
   "metadata": {},
   "source": [
    "# Write Docx File"
   ]
  },
  {
   "cell_type": "code",
   "execution_count": 11,
   "metadata": {},
   "outputs": [
    {
     "name": "stdout",
     "output_type": "stream",
     "text": [
      "Volume or pages not available\n",
      "Volume or pages not available\n",
      "Volume or pages not available\n",
      "Volume or pages not available\n",
      "Volume or pages not available\n",
      "Volume or pages not available\n",
      "Volume or pages not available\n",
      "Volume or pages not available\n",
      "Volume or pages not available\n",
      "Volume or pages not available\n",
      "Volume or pages not available\n",
      "Volume or pages not available\n",
      "Volume or pages not available\n",
      "Volume or pages not available\n",
      "Volume or pages not available\n",
      "Volume or pages not available\n"
     ]
    }
   ],
   "source": [
    "from docx import Document\n",
    "from docx.shared import Inches\n",
    "\n",
    "document = Document()\n",
    "\n",
    "document.add_heading('Citations', 0)\n",
    "\n",
    "for el in library.entries:\n",
    "    entry = el.fields_dict\n",
    "    author = format_author(entry[\"author\"].value)\n",
    "    year = entry[\"year\"].value\n",
    "    if (int(year) < 2022) : continue\n",
    "\n",
    "    title = entry[\"title\"].value\n",
    "    title = title.replace(\"{\", \"\")\n",
    "    title = title.replace(\"}\",\"\")\n",
    "    journal = entry[\"journal\"].value\n",
    "    try:\n",
    "        volume = entry[\"volume\"].value\n",
    "        pages = entry[\"pages\"].value\n",
    "    except: \n",
    "        print(\"Volume or pages not available\")\n",
    "\n",
    "    p = document.add_paragraph('')\n",
    "    p.add_run(author)\n",
    "    p.add_run(\" (\" + year + \") \" + title + \". \")\n",
    "    p.add_run(journal).italic = True\n",
    "    p.add_run(\": \" + pages + \".\\n\")\n",
    "    c = document.add_paragraph(\"\")\n",
    "\n",
    "\n",
    "document.save('citations.docx')"
   ]
  }
 ],
 "metadata": {
  "kernelspec": {
   "display_name": ".venv",
   "language": "python",
   "name": "python3"
  },
  "language_info": {
   "codemirror_mode": {
    "name": "ipython",
    "version": 3
   },
   "file_extension": ".py",
   "mimetype": "text/x-python",
   "name": "python",
   "nbconvert_exporter": "python",
   "pygments_lexer": "ipython3",
   "version": "3.9.6"
  },
  "orig_nbformat": 4
 },
 "nbformat": 4,
 "nbformat_minor": 2
}
